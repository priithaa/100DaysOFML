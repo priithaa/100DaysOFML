{
 "cells": [
  {
   "cell_type": "code",
   "execution_count": 12,
   "metadata": {},
   "outputs": [
    {
     "name": "stdout",
     "output_type": "stream",
     "text": [
      "Sample data \n",
      "     age  sex  cp trestbps chol fbs restecg thalach exang  oldpeak slope ca  \\\n",
      "0   28    1   2      130  132   0       2     185     0      0.0     ?  ?   \n",
      "1   29    1   2      120  243   0       0     160     0      0.0     ?  ?   \n",
      "2   29    1   2      140    ?   0       0     170     0      0.0     ?  ?   \n",
      "3   30    0   1      170  237   0       1     170     0      0.0     ?  ?   \n",
      "4   31    0   2      100  219   0       1     150     0      0.0     ?  ?   \n",
      "\n",
      "  thal  num  \n",
      "0    ?    0  \n",
      "1    ?    0  \n",
      "2    ?    0  \n",
      "3    6    0  \n",
      "4    ?    0  \n",
      "The shape of the data is as follows:\n",
      "\n",
      "(294, 14)\n"
     ]
    }
   ],
   "source": [
    "import numpy as np\n",
    "import pandas as pd\n",
    "from sklearn.preprocessing import Imputer\n",
    "from sklearn.model_selection import train_test_split\n",
    "import warnings\n",
    "warnings.filterwarnings(action=\"ignore\")\n",
    "\n",
    "\n",
    "data=pd.read_csv(\"HeartAttack_data.csv\",index_col=False)\n",
    "\n",
    "print(\"Sample data \\n \",data.head())\n",
    "\n",
    "print(\"The shape of the data is as follows:\\n\")\n",
    "\n",
    "print(data.shape)"
   ]
  },
  {
   "cell_type": "code",
   "execution_count": 13,
   "metadata": {},
   "outputs": [
    {
     "name": "stdout",
     "output_type": "stream",
     "text": [
      "Data after Filling in the missing values:\n",
      "       age  sex   cp  trestbps   chol  fbs  restecg  thalach  exang  oldpeak  \\\n",
      "127  52.0  1.0  2.0     120.0  284.0  0.0      0.0    118.0    0.0      0.0   \n",
      "\n",
      "     num  \n",
      "127  0.0  \n"
     ]
    }
   ],
   "source": [
    "data=data.replace('?',np.nan)\n",
    "\n",
    "imputer = Imputer(missing_values=np.nan, strategy='median', axis=0)\n",
    "\n",
    "\n",
    "data=data.drop(['ca'], axis = 1)\n",
    "data=data.drop(['slope'],axis=1)\n",
    "data=data.drop(['thal'],axis=1)\n",
    "# data[['ca']] = imputer.fit_transform(data[['ca']])\n",
    "for name in data[:]:\n",
    "    # print(name)\n",
    "    # print(data['num'])\n",
    "    data[[name]] = imputer.fit_transform(data[[name]])\n",
    "\n",
    "\n",
    "print(\"Data after Filling in the missing values:\\n\",data.sample())"
   ]
  },
  {
   "cell_type": "code",
   "execution_count": 14,
   "metadata": {},
   "outputs": [],
   "source": [
    "Y = data['num'].values\n",
    "X = data.drop('num', axis=1).values\n",
    "\n",
    "X_train, X_test, Y_train, Y_test = train_test_split (X, Y, test_size = 0.33, random_state=122)"
   ]
  },
  {
   "cell_type": "code",
   "execution_count": 15,
   "metadata": {},
   "outputs": [
    {
     "name": "stdout",
     "output_type": "stream",
     "text": [
      "(196, 10) (98, 10)\n"
     ]
    }
   ],
   "source": [
    "print(X_train.shape, X_test.shape)"
   ]
  },
  {
   "cell_type": "code",
   "execution_count": null,
   "metadata": {},
   "outputs": [],
   "source": []
  }
 ],
 "metadata": {
  "kernelspec": {
   "display_name": "Python 3",
   "language": "python",
   "name": "python3"
  },
  "language_info": {
   "codemirror_mode": {
    "name": "ipython",
    "version": 3
   },
   "file_extension": ".py",
   "mimetype": "text/x-python",
   "name": "python",
   "nbconvert_exporter": "python",
   "pygments_lexer": "ipython3",
   "version": "3.7.3"
  }
 },
 "nbformat": 4,
 "nbformat_minor": 2
}
