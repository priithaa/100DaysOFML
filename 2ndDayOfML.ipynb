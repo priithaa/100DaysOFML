{
 "cells": [
  {
   "cell_type": "code",
   "execution_count": 2,
   "metadata": {},
   "outputs": [
    {
     "name": "stdout",
     "output_type": "stream",
     "text": [
      "[ 9.5  4.9  7.9  9.6  5.9  1.5  4.  10.5 10.3  3.9  3.2  3.   6.8  7.1\n",
      "  4.   3.7  9.   2.2  1.3  8.2  5.3  4.5]\n",
      "[116969.  67938. 101302. 112635.  81363.  37731.  56957. 121872. 122391.\n",
      "  63218.  64445.  60150.  91738.  98273.  55794.  57189. 105582.  39891.\n",
      "  46205. 113812.  83088.  61111.]\n",
      "[129430.55850194]\n",
      "[138832.61802694]\n",
      "[148234.67755194]\n"
     ]
    },
    {
     "data": {
      "text/plain": [
       "<Figure size 640x480 with 1 Axes>"
      ]
     },
     "metadata": {},
     "output_type": "display_data"
    }
   ],
   "source": [
    "import pandas as pd\n",
    "import numpy as np\n",
    "import matplotlib.pyplot as plt\n",
    "dataset = pd.read_csv(r\"Salary.csv\")\n",
    "dataset= dataset.dropna()\n",
    "\n",
    "X=dataset.iloc[:,0].values\n",
    "y=dataset.iloc[:,1].values\n",
    "\n",
    "from sklearn.model_selection import train_test_split\n",
    "X_train , X_test, y_train, y_test = train_test_split(X, y, test_size=0.2, random_state=0)\n",
    "\n",
    "print(X_train)\n",
    "print(y_train)\n",
    "\n",
    "X_train= X_train.reshape(-1,1)\n",
    "X_test= X_test.reshape(-1,1)\n",
    "\n",
    "from sklearn.linear_model import LinearRegression\n",
    "regressor = LinearRegression()\n",
    "regressor.fit(X_train, y_train)\n",
    "\n",
    "y_predict = regressor.predict(X_test)\n",
    "\n",
    "\n",
    "y_pred = regressor.predict([[11]])\n",
    "print(y_pred)\n",
    "\n",
    "y_pred = regressor.predict([[12]])\n",
    "print(y_pred)\n",
    "y_pred = regressor.predict([[13]])\n",
    "print(y_pred)\n",
    "\n",
    "\n",
    "plt.scatter(X_test , y_test, color=\"blue\")\n",
    "plt.plot(X_test , y_predict, color=\"green\")\n",
    "plt.scatter(X_train,y_train , color=\"red\")\n",
    "plt.show()"
   ]
  },
  {
   "cell_type": "code",
   "execution_count": null,
   "metadata": {},
   "outputs": [],
   "source": []
  }
 ],
 "metadata": {
  "kernelspec": {
   "display_name": "Python 3",
   "language": "python",
   "name": "python3"
  },
  "language_info": {
   "codemirror_mode": {
    "name": "ipython",
    "version": 3
   },
   "file_extension": ".py",
   "mimetype": "text/x-python",
   "name": "python",
   "nbconvert_exporter": "python",
   "pygments_lexer": "ipython3",
   "version": "3.7.3"
  }
 },
 "nbformat": 4,
 "nbformat_minor": 2
}
